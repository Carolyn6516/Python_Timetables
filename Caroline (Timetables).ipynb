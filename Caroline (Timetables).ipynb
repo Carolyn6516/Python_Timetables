{
 "cells": [
  {
   "cell_type": "code",
   "execution_count": 1,
   "id": "bd5f1dc1",
   "metadata": {},
   "outputs": [
    {
     "name": "stdout",
     "output_type": "stream",
     "text": [
      "Enter any number:3\n",
      "Enter the range:12\n",
      "3  *  1  = 3\n",
      "3  *  2  = 6\n",
      "3  *  3  = 9\n",
      "3  *  4  = 12\n",
      "3  *  5  = 15\n",
      "3  *  6  = 18\n",
      "3  *  7  = 21\n",
      "3  *  8  = 24\n",
      "3  *  9  = 27\n",
      "3  *  10 = 30\n",
      "3  *  11 = 33\n",
      "3  *  12 = 36\n"
     ]
    }
   ],
   "source": [
    "n=int(input(\"Enter any number:\"))\n",
    "r=int(input(\"Enter the range:\"))\n",
    "for i in range(1,r+1):\n",
    "    print(format(n,\"<2\"),\"* \",format(i,\"<2\"),\"=\",n*i)"
   ]
  },
  {
   "cell_type": "code",
   "execution_count": 2,
   "id": "de84afd8",
   "metadata": {},
   "outputs": [
    {
     "name": "stdout",
     "output_type": "stream",
     "text": [
      "Enter the number:4\n",
      "4 * 1 = 4\n",
      "4 * 2 = 8\n",
      "4 * 3 = 12\n",
      "4 * 4 = 16\n",
      "4 * 5 = 20\n",
      "4 * 6 = 24\n",
      "4 * 7 = 28\n",
      "4 * 8 = 32\n",
      "4 * 9 = 36\n",
      "4 * 10 = 40\n",
      "4 * 11 = 44\n",
      "4 * 12 = 48\n"
     ]
    }
   ],
   "source": [
    "number=int(input(\"Enter the number:\"))\n",
    "for mul in range(1,13):\n",
    "        print(\"{0} * {1} = {2}\" .format(number,mul, (number * mul)))"
   ]
  },
  {
   "cell_type": "code",
   "execution_count": null,
   "id": "dbe5fa06",
   "metadata": {},
   "outputs": [],
   "source": []
  }
 ],
 "metadata": {
  "kernelspec": {
   "display_name": "Python 3 (ipykernel)",
   "language": "python",
   "name": "python3"
  },
  "language_info": {
   "codemirror_mode": {
    "name": "ipython",
    "version": 3
   },
   "file_extension": ".py",
   "mimetype": "text/x-python",
   "name": "python",
   "nbconvert_exporter": "python",
   "pygments_lexer": "ipython3",
   "version": "3.9.7"
  }
 },
 "nbformat": 4,
 "nbformat_minor": 5
}
